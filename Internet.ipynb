{
 "cells": [
  {
   "cell_type": "markdown",
   "id": "e325a2e0",
   "metadata": {},
   "source": [
    "# Limpieza de datos - Internet Ingresos\n",
    "\n",
    "Limpieza y enriquecimiento de datos con pandas.\n",
    "Este notebook prepara el archivo `Internet.csv` para su análisis posterior."
   ]
  },
  {
   "cell_type": "code",
   "execution_count": 1,
   "id": "5954b9d1",
   "metadata": {},
   "outputs": [],
   "source": [
    "import pandas as pd\n",
    "import numpy as np"
   ]
  },
  {
   "cell_type": "markdown",
   "id": "96fffdaa",
   "metadata": {},
   "source": [
    "Unifica las columnas 'Año' y 'Trimestre' en 'Fecha' con formato \"2025T1\".\n",
    "Limpia la columna 'Ingresos' manteniendo el formato contable: puntos como separadores de miles y coma como decimal."
   ]
  },
  {
   "cell_type": "code",
   "execution_count": 20,
   "id": "0a19236a",
   "metadata": {},
   "outputs": [
    {
     "name": "stdout",
     "output_type": "stream",
     "text": [
      "    Fecha        Ingresos\n",
      "0  2025T1  671.895.963,18\n",
      "1  2024T4  697.603.364,84\n",
      "2  2024T3  541.734.583,50\n",
      "3  2024T2  442.032.166,69\n",
      "4  2024T1  346.198.986,13\n"
     ]
    }
   ],
   "source": [
    "\n",
    "# Cargar el archivo CSV\n",
    "df_ingresos = pd.read_csv(\n",
    "    r\"C:\\Users\\u601043\\OneDrive - Telecom Argentina SA\\Desktop\\Trabajo Final Henry\\Dataset a transformar\\Internet Ingresos.csv\",\n",
    "    sep=',',\n",
    "    encoding='utf-8'\n",
    ")\n",
    "\n",
    "# Asegurar que 'Ingresos' sea texto\n",
    "df_ingresos['Ingresos'] = df_ingresos['Ingresos'].astype(str)\n",
    "\n",
    "# Limpiar la columna 'Ingresos': eliminar símbolo de pesos y espacios\n",
    "df_ingresos['Ingresos'] = df_ingresos['Ingresos'].str.replace('$', '', regex=False).str.strip()\n",
    "\n",
    "# Crear columna 'Fecha' como texto tipo '2025T1'\n",
    "df_ingresos['Fecha'] = df_ingresos['Año'].astype(str) + 'T' + df_ingresos['Trimestre'].astype(str)\n",
    "\n",
    "# Reordenar columnas: poner 'Fecha' primero y eliminar 'Año' y 'Trimestre'\n",
    "columnas_finales = ['Fecha'] + [col for col in df_ingresos.columns if col not in ['Año', 'Trimestre', 'Fecha']]\n",
    "df_ingresos = df_ingresos[columnas_finales]\n",
    "\n",
    "# Guardar el archivo transformado sin índice\n",
    "df_ingresos.to_csv(\n",
    "    r\"C:\\Users\\u601043\\OneDrive - Telecom Argentina SA\\Desktop\\Trabajo Final Henry\\Dataset a transformar\\Internet_Ingresos_Final.csv\",\n",
    "    index=False,\n",
    "    encoding='utf-8'\n",
    ")\n",
    "\n",
    "\n",
    "# Verificar resultado\n",
    "print(df_ingresos.head())\n",
    "\n"
   ]
  },
  {
   "cell_type": "code",
   "execution_count": null,
   "id": "1c1cd4c5",
   "metadata": {},
   "outputs": [],
   "source": [
    "# Limpieza de datos - \n",
    "\n",
    "Limpieza y enriquecimiento de datos con pandas.\n",
    "Preparamos el archivo `Internet Penetración Provincias.csv` para su análisis posterior."
   ]
  },
  {
   "cell_type": "code",
   "execution_count": 21,
   "id": "6a0dfcaf",
   "metadata": {},
   "outputs": [],
   "source": [
    "\n",
    "# Cargar el archivo CSV\n",
    "df_penetracion = pd.read_csv(\n",
    "    r\"C:\\Users\\u601043\\OneDrive - Telecom Argentina SA\\Desktop\\Trabajo Final Henry\\Dataset a transformar\\Internet Penetración Provincias.csv\",\n",
    "    sep=',',\n",
    "    encoding='utf-8'\n",
    ")\n"
   ]
  },
  {
   "cell_type": "code",
   "execution_count": null,
   "id": "dead7bdc",
   "metadata": {},
   "outputs": [
    {
     "data": {
      "text/html": [
       "<div>\n",
       "<style scoped>\n",
       "    .dataframe tbody tr th:only-of-type {\n",
       "        vertical-align: middle;\n",
       "    }\n",
       "\n",
       "    .dataframe tbody tr th {\n",
       "        vertical-align: top;\n",
       "    }\n",
       "\n",
       "    .dataframe thead th {\n",
       "        text-align: right;\n",
       "    }\n",
       "</style>\n",
       "<table border=\"1\" class=\"dataframe\">\n",
       "  <thead>\n",
       "    <tr style=\"text-align: right;\">\n",
       "      <th></th>\n",
       "      <th>Año</th>\n",
       "      <th>Trimestre</th>\n",
       "      <th>Provincias</th>\n",
       "      <th>Accesos cada 100 Hogares</th>\n",
       "      <th>Accesos cada 100 Habitantes</th>\n",
       "    </tr>\n",
       "  </thead>\n",
       "  <tbody>\n",
       "    <tr>\n",
       "      <th>0</th>\n",
       "      <td>2025</td>\n",
       "      <td>1</td>\n",
       "      <td>Buenos Aires</td>\n",
       "      <td>83,46</td>\n",
       "      <td>28,90</td>\n",
       "    </tr>\n",
       "    <tr>\n",
       "      <th>1</th>\n",
       "      <td>2025</td>\n",
       "      <td>1</td>\n",
       "      <td>CABA</td>\n",
       "      <td>117,91</td>\n",
       "      <td>47,92</td>\n",
       "    </tr>\n",
       "    <tr>\n",
       "      <th>2</th>\n",
       "      <td>2025</td>\n",
       "      <td>1</td>\n",
       "      <td>Catamarca</td>\n",
       "      <td>72,02</td>\n",
       "      <td>18,32</td>\n",
       "    </tr>\n",
       "    <tr>\n",
       "      <th>3</th>\n",
       "      <td>2025</td>\n",
       "      <td>1</td>\n",
       "      <td>Chaco</td>\n",
       "      <td>49,90</td>\n",
       "      <td>13,34</td>\n",
       "    </tr>\n",
       "    <tr>\n",
       "      <th>4</th>\n",
       "      <td>2025</td>\n",
       "      <td>1</td>\n",
       "      <td>Chubut</td>\n",
       "      <td>90,52</td>\n",
       "      <td>27,74</td>\n",
       "    </tr>\n",
       "  </tbody>\n",
       "</table>\n",
       "</div>"
      ],
      "text/plain": [
       "    Año  Trimestre    Provincias Accesos cada 100 Hogares  \\\n",
       "0  2025          1  Buenos Aires                    83,46   \n",
       "1  2025          1          CABA                   117,91   \n",
       "2  2025          1     Catamarca                    72,02   \n",
       "3  2025          1         Chaco                    49,90   \n",
       "4  2025          1        Chubut                    90,52   \n",
       "\n",
       "  Accesos cada 100 Habitantes  \n",
       "0                       28,90  \n",
       "1                       47,92  \n",
       "2                       18,32  \n",
       "3                       13,34  \n",
       "4                       27,74  "
      ]
     },
     "execution_count": 22,
     "metadata": {},
     "output_type": "execute_result"
    }
   ],
   "source": [
    "#Lectura de las primeras lineas\n",
    "df_penetracion.head()"
   ]
  },
  {
   "cell_type": "code",
   "execution_count": null,
   "id": "4ea7a9ea",
   "metadata": {},
   "outputs": [],
   "source": [
    "#Unificar los nombres de provincias (por ejemplo, \"Tucuman\" y \"Tucumán\"\n",
    "import unicodedata\n"
   ]
  },
  {
   "cell_type": "code",
   "execution_count": 24,
   "id": "4ca05c64",
   "metadata": {},
   "outputs": [],
   "source": [
    "\n",
    "# Normalizar nombres de provincias: quitar tildes y convertir a título\n",
    "def normalizar(texto):\n",
    "    texto = unicodedata.normalize('NFKD', texto).encode('ASCII', 'ignore').decode('utf-8')\n",
    "    return texto.title().strip()\n",
    "\n",
    "df_penetracion['Provincias'] = df_penetracion['Provincias'].apply(normalizar)\n",
    "\n"
   ]
  },
  {
   "cell_type": "code",
   "execution_count": 25,
   "id": "214d4aad",
   "metadata": {},
   "outputs": [],
   "source": [
    "\n",
    "# Crear columna 'Fecha' como texto tipo '2025T1'\n",
    "df_penetracion['Fecha'] = df_penetracion['Año'].astype(str) + 'T' + df_penetracion['Trimestre'].astype(str)\n",
    "\n",
    "# Reordenar columnas: poner 'Fecha' primero y eliminar 'Año' y 'Trimestre'\n",
    "columnas_finales = ['Fecha'] + [col for col in df_penetracion.columns if col not in ['Año', 'Trimestre', 'Fecha']]\n",
    "df_penetracion = df_penetracion[columnas_finales]\n"
   ]
  },
  {
   "cell_type": "code",
   "execution_count": null,
   "id": "ba9578c9",
   "metadata": {},
   "outputs": [
    {
     "data": {
      "text/html": [
       "<div>\n",
       "<style scoped>\n",
       "    .dataframe tbody tr th:only-of-type {\n",
       "        vertical-align: middle;\n",
       "    }\n",
       "\n",
       "    .dataframe tbody tr th {\n",
       "        vertical-align: top;\n",
       "    }\n",
       "\n",
       "    .dataframe thead th {\n",
       "        text-align: right;\n",
       "    }\n",
       "</style>\n",
       "<table border=\"1\" class=\"dataframe\">\n",
       "  <thead>\n",
       "    <tr style=\"text-align: right;\">\n",
       "      <th></th>\n",
       "      <th>Fecha</th>\n",
       "      <th>Provincias</th>\n",
       "      <th>Accesos cada 100 Hogares</th>\n",
       "      <th>Accesos cada 100 Habitantes</th>\n",
       "    </tr>\n",
       "  </thead>\n",
       "  <tbody>\n",
       "    <tr>\n",
       "      <th>0</th>\n",
       "      <td>2025T1</td>\n",
       "      <td>Buenos Aires</td>\n",
       "      <td>83,46</td>\n",
       "      <td>28,90</td>\n",
       "    </tr>\n",
       "    <tr>\n",
       "      <th>1</th>\n",
       "      <td>2025T1</td>\n",
       "      <td>Caba</td>\n",
       "      <td>117,91</td>\n",
       "      <td>47,92</td>\n",
       "    </tr>\n",
       "    <tr>\n",
       "      <th>2</th>\n",
       "      <td>2025T1</td>\n",
       "      <td>Catamarca</td>\n",
       "      <td>72,02</td>\n",
       "      <td>18,32</td>\n",
       "    </tr>\n",
       "    <tr>\n",
       "      <th>3</th>\n",
       "      <td>2025T1</td>\n",
       "      <td>Chaco</td>\n",
       "      <td>49,90</td>\n",
       "      <td>13,34</td>\n",
       "    </tr>\n",
       "    <tr>\n",
       "      <th>4</th>\n",
       "      <td>2025T1</td>\n",
       "      <td>Chubut</td>\n",
       "      <td>90,52</td>\n",
       "      <td>27,74</td>\n",
       "    </tr>\n",
       "  </tbody>\n",
       "</table>\n",
       "</div>"
      ],
      "text/plain": [
       "    Fecha    Provincias Accesos cada 100 Hogares Accesos cada 100 Habitantes\n",
       "0  2025T1  Buenos Aires                    83,46                       28,90\n",
       "1  2025T1          Caba                   117,91                       47,92\n",
       "2  2025T1     Catamarca                    72,02                       18,32\n",
       "3  2025T1         Chaco                    49,90                       13,34\n",
       "4  2025T1        Chubut                    90,52                       27,74"
      ]
     },
     "execution_count": 26,
     "metadata": {},
     "output_type": "execute_result"
    }
   ],
   "source": [
    "#Visualización del archivo con los datos transformados\n",
    "df_penetracion.head()"
   ]
  },
  {
   "cell_type": "code",
   "execution_count": 27,
   "id": "d056f957",
   "metadata": {},
   "outputs": [],
   "source": [
    "\n",
    "# Guardar el archivo transformado sin índice\n",
    "df_penetracion.to_csv(\n",
    "    r\"C:\\Users\\u601043\\OneDrive - Telecom Argentina SA\\Desktop\\Trabajo Final Henry\\Dataset a transformar\\Internet_Penetracion_Final.csv\",\n",
    "    index=False,\n",
    "    encoding='utf-8'\n",
    ")\n"
   ]
  },
  {
   "cell_type": "markdown",
   "id": "1742a789",
   "metadata": {},
   "source": [
    "# Limpieza de datos - \n",
    "\n",
    "Limpieza y enriquecimiento de datos con pandas.\n",
    "Preparamos el archivo `Internet BAF Provincias.csv` para su análisis posterior."
   ]
  },
  {
   "cell_type": "code",
   "execution_count": 29,
   "id": "bfd2138c",
   "metadata": {},
   "outputs": [],
   "source": [
    "\n",
    "# Cargar el archivo\n",
    "df_baf_provincias = pd.read_csv(r\"C:\\Users\\u601043\\OneDrive - Telecom Argentina SA\\Desktop\\Trabajo Final Henry\\Dataset a transformar\\Internet BAF Provincias.csv\")\n"
   ]
  },
  {
   "cell_type": "code",
   "execution_count": 30,
   "id": "0f80a94c",
   "metadata": {},
   "outputs": [
    {
     "data": {
      "text/html": [
       "<div>\n",
       "<style scoped>\n",
       "    .dataframe tbody tr th:only-of-type {\n",
       "        vertical-align: middle;\n",
       "    }\n",
       "\n",
       "    .dataframe tbody tr th {\n",
       "        vertical-align: top;\n",
       "    }\n",
       "\n",
       "    .dataframe thead th {\n",
       "        text-align: right;\n",
       "    }\n",
       "</style>\n",
       "<table border=\"1\" class=\"dataframe\">\n",
       "  <thead>\n",
       "    <tr style=\"text-align: right;\">\n",
       "      <th></th>\n",
       "      <th>Año</th>\n",
       "      <th>Trimestre</th>\n",
       "      <th>Provincia</th>\n",
       "      <th>Banda Ancha Fija</th>\n",
       "      <th>Dial Up</th>\n",
       "      <th>Total</th>\n",
       "    </tr>\n",
       "  </thead>\n",
       "  <tbody>\n",
       "    <tr>\n",
       "      <th>0</th>\n",
       "      <td>2025</td>\n",
       "      <td>1</td>\n",
       "      <td>Buenos Aires</td>\n",
       "      <td>5.285.374</td>\n",
       "      <td>5.522</td>\n",
       "      <td>5.290.896</td>\n",
       "    </tr>\n",
       "    <tr>\n",
       "      <th>1</th>\n",
       "      <td>2025</td>\n",
       "      <td>1</td>\n",
       "      <td>CABA</td>\n",
       "      <td>1.476.158</td>\n",
       "      <td>2.778</td>\n",
       "      <td>1.478.936</td>\n",
       "    </tr>\n",
       "    <tr>\n",
       "      <th>2</th>\n",
       "      <td>2025</td>\n",
       "      <td>1</td>\n",
       "      <td>Catamarca</td>\n",
       "      <td>79.017</td>\n",
       "      <td>0.000</td>\n",
       "      <td>79.017</td>\n",
       "    </tr>\n",
       "    <tr>\n",
       "      <th>3</th>\n",
       "      <td>2025</td>\n",
       "      <td>1</td>\n",
       "      <td>Chaco</td>\n",
       "      <td>167.656</td>\n",
       "      <td>5.000</td>\n",
       "      <td>167.661</td>\n",
       "    </tr>\n",
       "    <tr>\n",
       "      <th>4</th>\n",
       "      <td>2025</td>\n",
       "      <td>1</td>\n",
       "      <td>Chubut</td>\n",
       "      <td>183.958</td>\n",
       "      <td>763.000</td>\n",
       "      <td>184.721</td>\n",
       "    </tr>\n",
       "  </tbody>\n",
       "</table>\n",
       "</div>"
      ],
      "text/plain": [
       "    Año  Trimestre     Provincia Banda Ancha Fija  Dial Up      Total\n",
       "0  2025          1  Buenos Aires        5.285.374    5.522  5.290.896\n",
       "1  2025          1          CABA        1.476.158    2.778  1.478.936\n",
       "2  2025          1     Catamarca           79.017    0.000     79.017\n",
       "3  2025          1         Chaco          167.656    5.000    167.661\n",
       "4  2025          1        Chubut          183.958  763.000    184.721"
      ]
     },
     "execution_count": 30,
     "metadata": {},
     "output_type": "execute_result"
    }
   ],
   "source": [
    "#Lectura de las primeras lineas\n",
    "df_baf_provincias.head()"
   ]
  },
  {
   "cell_type": "code",
   "execution_count": 31,
   "id": "59f5df01",
   "metadata": {},
   "outputs": [],
   "source": [
    "\n",
    "# Función para eliminar acentos\n",
    "def quitar_acentos(texto):\n",
    "    if isinstance(texto, str):\n",
    "        texto = unicodedata.normalize('NFKD', texto)\n",
    "        texto = texto.encode('ASCII', 'ignore').decode('utf-8')\n",
    "        return texto.title()\n",
    "    return texto\n"
   ]
  },
  {
   "cell_type": "code",
   "execution_count": 32,
   "id": "7f273106",
   "metadata": {},
   "outputs": [],
   "source": [
    "\n",
    "# Normalizar nombres de provincias\n",
    "df_baf_provincias[\"Provincia\"] = df_baf_provincias[\"Provincia\"].apply(quitar_acentos)\n"
   ]
  },
  {
   "cell_type": "code",
   "execution_count": 33,
   "id": "6bed65ea",
   "metadata": {},
   "outputs": [],
   "source": [
    "\n",
    "# Crear columna Fecha\n",
    "df_baf_provincias[\"Fecha\"] = df_baf_provincias[\"Año\"].astype(str) + \"-T\" + df_baf_provincias[\"Trimestre\"].astype(str)\n"
   ]
  },
  {
   "cell_type": "code",
   "execution_count": 38,
   "id": "16f1f31f",
   "metadata": {},
   "outputs": [],
   "source": [
    "# Reordenar columnas: poner 'Fecha' primero y eliminar 'Año' y 'Trimestre'\n",
    "columnas_finales = [\"Fecha\"] + [col for col in df_baf_provincias.columns if col not in [\"Año\", \"Trimestre\", \"Fecha\"]]\n",
    "df_baf_provincias = df_baf_provincias[columnas_finales]\n"
   ]
  },
  {
   "cell_type": "code",
   "execution_count": 39,
   "id": "b756be37",
   "metadata": {},
   "outputs": [],
   "source": [
    "\n",
    "# Convertir valores numéricos\n",
    "for col in [\"Banda Ancha Fija\", \"Dial Up\", \"Total\"]:\n",
    "    df_baf_provincias[col] = df_baf_provincias[col].astype(str).str.replace(\".\", \"\", regex=False)\n",
    "    df_baf_provincias[col] = pd.to_numeric(df_baf_provincias[col], errors=\"coerce\")\n"
   ]
  },
  {
   "cell_type": "code",
   "execution_count": 42,
   "id": "de4e970a",
   "metadata": {},
   "outputs": [],
   "source": [
    "\n",
    "# Formatear la columna 'Total' con separadores de miles usando puntos\n",
    "df_baf_provincias[\"Total\"] = df_baf_provincias[\"Total\"].apply(lambda x: f\"{int(x):,}\".replace(\",\", \".\"))\n"
   ]
  },
  {
   "cell_type": "code",
   "execution_count": 43,
   "id": "d77fcab2",
   "metadata": {},
   "outputs": [
    {
     "data": {
      "text/html": [
       "<div>\n",
       "<style scoped>\n",
       "    .dataframe tbody tr th:only-of-type {\n",
       "        vertical-align: middle;\n",
       "    }\n",
       "\n",
       "    .dataframe tbody tr th {\n",
       "        vertical-align: top;\n",
       "    }\n",
       "\n",
       "    .dataframe thead th {\n",
       "        text-align: right;\n",
       "    }\n",
       "</style>\n",
       "<table border=\"1\" class=\"dataframe\">\n",
       "  <thead>\n",
       "    <tr style=\"text-align: right;\">\n",
       "      <th></th>\n",
       "      <th>Fecha</th>\n",
       "      <th>Provincia</th>\n",
       "      <th>Banda Ancha Fija</th>\n",
       "      <th>Dial Up</th>\n",
       "      <th>Total</th>\n",
       "    </tr>\n",
       "  </thead>\n",
       "  <tbody>\n",
       "    <tr>\n",
       "      <th>0</th>\n",
       "      <td>2025-T1</td>\n",
       "      <td>Buenos Aires</td>\n",
       "      <td>5285374</td>\n",
       "      <td>5522</td>\n",
       "      <td>5.290.896</td>\n",
       "    </tr>\n",
       "    <tr>\n",
       "      <th>1</th>\n",
       "      <td>2025-T1</td>\n",
       "      <td>Caba</td>\n",
       "      <td>1476158</td>\n",
       "      <td>2778</td>\n",
       "      <td>1.478.936</td>\n",
       "    </tr>\n",
       "    <tr>\n",
       "      <th>2</th>\n",
       "      <td>2025-T1</td>\n",
       "      <td>Catamarca</td>\n",
       "      <td>79017</td>\n",
       "      <td>0</td>\n",
       "      <td>79.017</td>\n",
       "    </tr>\n",
       "    <tr>\n",
       "      <th>3</th>\n",
       "      <td>2025-T1</td>\n",
       "      <td>Chaco</td>\n",
       "      <td>167656</td>\n",
       "      <td>50</td>\n",
       "      <td>167.661</td>\n",
       "    </tr>\n",
       "    <tr>\n",
       "      <th>4</th>\n",
       "      <td>2025-T1</td>\n",
       "      <td>Chubut</td>\n",
       "      <td>183958</td>\n",
       "      <td>7630</td>\n",
       "      <td>184.721</td>\n",
       "    </tr>\n",
       "  </tbody>\n",
       "</table>\n",
       "</div>"
      ],
      "text/plain": [
       "     Fecha     Provincia  Banda Ancha Fija  Dial Up      Total\n",
       "0  2025-T1  Buenos Aires           5285374     5522  5.290.896\n",
       "1  2025-T1          Caba           1476158     2778  1.478.936\n",
       "2  2025-T1     Catamarca             79017        0     79.017\n",
       "3  2025-T1         Chaco            167656       50    167.661\n",
       "4  2025-T1        Chubut            183958     7630    184.721"
      ]
     },
     "execution_count": 43,
     "metadata": {},
     "output_type": "execute_result"
    }
   ],
   "source": [
    "#Visualización del archivo con los datos transformados\n",
    "df_baf_provincias.head()"
   ]
  },
  {
   "cell_type": "code",
   "execution_count": 45,
   "id": "901d4b3b",
   "metadata": {},
   "outputs": [],
   "source": [
    "\n",
    "\n",
    "# Guardar el archivo transformado sin índice\n",
    "df_baf_provincias.to_csv(\n",
    "    r\"C:\\Users\\u601043\\OneDrive - Telecom Argentina SA\\Desktop\\Trabajo Final Henry\\Dataset a transformar\\Internet_BAF_Provincias_Final.csv\",\n",
    "    index=False,\n",
    "    encoding='utf-8'\n",
    ")\n",
    "\n"
   ]
  },
  {
   "cell_type": "markdown",
   "id": "4a7e1d53",
   "metadata": {},
   "source": [
    "# Limpieza de datos - \n",
    "Limpieza y enriquecimiento de datos con pandas.\n",
    "Preparamos el archivo `Accesos Tecnologías Provincas.csv` para su análisis posterior..csv` para su análisis posterior."
   ]
  },
  {
   "cell_type": "code",
   "execution_count": 46,
   "id": "45649f45",
   "metadata": {},
   "outputs": [],
   "source": [
    "\n",
    "# Cargar el archivo\n",
    "df_tecnologias_provincias = pd.read_csv(r\"C:\\Users\\u601043\\OneDrive - Telecom Argentina SA\\Desktop\\Trabajo Final Henry\\Dataset a transformar\\Internet Accesos Tecnologias Provincias.csv\")\n"
   ]
  },
  {
   "cell_type": "code",
   "execution_count": 47,
   "id": "e942663f",
   "metadata": {},
   "outputs": [
    {
     "data": {
      "text/html": [
       "<div>\n",
       "<style scoped>\n",
       "    .dataframe tbody tr th:only-of-type {\n",
       "        vertical-align: middle;\n",
       "    }\n",
       "\n",
       "    .dataframe tbody tr th {\n",
       "        vertical-align: top;\n",
       "    }\n",
       "\n",
       "    .dataframe thead th {\n",
       "        text-align: right;\n",
       "    }\n",
       "</style>\n",
       "<table border=\"1\" class=\"dataframe\">\n",
       "  <thead>\n",
       "    <tr style=\"text-align: right;\">\n",
       "      <th></th>\n",
       "      <th>Año</th>\n",
       "      <th>Trimestre</th>\n",
       "      <th>Provincia</th>\n",
       "      <th>ADSL</th>\n",
       "      <th>Cablemodem</th>\n",
       "      <th>Fibra Optica</th>\n",
       "      <th>Wireless</th>\n",
       "      <th>Otros</th>\n",
       "      <th>Total</th>\n",
       "    </tr>\n",
       "  </thead>\n",
       "  <tbody>\n",
       "    <tr>\n",
       "      <th>0</th>\n",
       "      <td>2025</td>\n",
       "      <td>1</td>\n",
       "      <td>Buenos Aires</td>\n",
       "      <td>161.339</td>\n",
       "      <td>2.721.677</td>\n",
       "      <td>2.167.842</td>\n",
       "      <td>141.124</td>\n",
       "      <td>98.914</td>\n",
       "      <td>5.290.896</td>\n",
       "    </tr>\n",
       "    <tr>\n",
       "      <th>1</th>\n",
       "      <td>2025</td>\n",
       "      <td>1</td>\n",
       "      <td>CABA</td>\n",
       "      <td>23.684</td>\n",
       "      <td>1.068.665</td>\n",
       "      <td>345.148</td>\n",
       "      <td>4.353</td>\n",
       "      <td>37.086</td>\n",
       "      <td>1.478.936</td>\n",
       "    </tr>\n",
       "    <tr>\n",
       "      <th>2</th>\n",
       "      <td>2025</td>\n",
       "      <td>1</td>\n",
       "      <td>Catamarca</td>\n",
       "      <td>3.688</td>\n",
       "      <td>9.070</td>\n",
       "      <td>61.689</td>\n",
       "      <td>1.384</td>\n",
       "      <td>3.186</td>\n",
       "      <td>79.017</td>\n",
       "    </tr>\n",
       "    <tr>\n",
       "      <th>3</th>\n",
       "      <td>2025</td>\n",
       "      <td>1</td>\n",
       "      <td>Chaco</td>\n",
       "      <td>5.954</td>\n",
       "      <td>55.663</td>\n",
       "      <td>93.849</td>\n",
       "      <td>7.624</td>\n",
       "      <td>4.571</td>\n",
       "      <td>167.661</td>\n",
       "    </tr>\n",
       "    <tr>\n",
       "      <th>4</th>\n",
       "      <td>2025</td>\n",
       "      <td>1</td>\n",
       "      <td>Chubut</td>\n",
       "      <td>11.588</td>\n",
       "      <td>57.374</td>\n",
       "      <td>68.846</td>\n",
       "      <td>30.717</td>\n",
       "      <td>16.196</td>\n",
       "      <td>184.721</td>\n",
       "    </tr>\n",
       "  </tbody>\n",
       "</table>\n",
       "</div>"
      ],
      "text/plain": [
       "    Año  Trimestre     Provincia     ADSL Cablemodem Fibra Optica  Wireless  \\\n",
       "0  2025          1  Buenos Aires  161.339  2.721.677    2.167.842   141.124   \n",
       "1  2025          1          CABA   23.684  1.068.665      345.148     4.353   \n",
       "2  2025          1     Catamarca    3.688      9.070       61.689     1.384   \n",
       "3  2025          1         Chaco    5.954     55.663       93.849     7.624   \n",
       "4  2025          1        Chubut   11.588     57.374       68.846    30.717   \n",
       "\n",
       "    Otros      Total  \n",
       "0  98.914  5.290.896  \n",
       "1  37.086  1.478.936  \n",
       "2   3.186     79.017  \n",
       "3   4.571    167.661  \n",
       "4  16.196    184.721  "
      ]
     },
     "execution_count": 47,
     "metadata": {},
     "output_type": "execute_result"
    }
   ],
   "source": [
    "#Lectura de las primeras lineas\n",
    "df_tecnologias_provincias.head()"
   ]
  },
  {
   "cell_type": "code",
   "execution_count": 48,
   "id": "4067abaa",
   "metadata": {},
   "outputs": [],
   "source": [
    "\n",
    "# Función para eliminar acentos y capitalizar\n",
    "def quitar_acentos(texto):\n",
    "    if isinstance(texto, str):\n",
    "        texto = unicodedata.normalize('NFKD', texto)\n",
    "        texto = texto.encode('ASCII', 'ignore').decode('utf-8')\n",
    "        return texto.title()\n",
    "    return texto\n"
   ]
  },
  {
   "cell_type": "code",
   "execution_count": 49,
   "id": "a61487b9",
   "metadata": {},
   "outputs": [],
   "source": [
    "\n",
    "# Eliminar columna vacía si existe\n",
    "if df_tecnologias_provincias.columns[0] == \"\":\n",
    "    df_tecnologias_provincias.drop(columns=df_tecnologias_provincias.columns[0], inplace=True)\n"
   ]
  },
  {
   "cell_type": "code",
   "execution_count": 50,
   "id": "1ed2fe67",
   "metadata": {},
   "outputs": [],
   "source": [
    "\n",
    " #Normalizar nombres de provincias\n",
    "df_tecnologias_provincias[\"Provincia\"] = df_tecnologias_provincias[\"Provincia\"].apply(quitar_acentos)\n"
   ]
  },
  {
   "cell_type": "code",
   "execution_count": 51,
   "id": "8ca49955",
   "metadata": {},
   "outputs": [],
   "source": [
    "\n",
    "# Crear columna 'Fecha' como texto tipo '2025T1'\n",
    "df_tecnologias_provincias[\"Fecha\"] = df_tecnologias_provincias[\"Año\"].astype(str) + \"T\" + df_tecnologias_provincias[\"Trimestre\"].astype(str)\n"
   ]
  },
  {
   "cell_type": "code",
   "execution_count": 57,
   "id": "5bea1c51",
   "metadata": {},
   "outputs": [],
   "source": [
    "\n",
    "# Convertir y formatear columnas numéricas con puntos como separadores de miles\n",
    "columnas_a_formatear = [\"ADSL\", \"Cablemodem\", \"Fibra Optica\", \"Wireless\", \"Otros\"]\n",
    "for col in columnas_a_formatear:\n",
    "    df_tecnologias_provincias[col] = df_tecnologias_provincias[col].astype(str).str.replace(\".\", \"\", regex=False)\n",
    "    df_tecnologias_provincias[col] = pd.to_numeric(df_tecnologias_provincias[col], errors=\"coerce\")\n",
    "    df_tecnologias_provincias[col] = df_tecnologias_provincias[col].apply(lambda x: f\"{int(x):,}\".replace(\",\", \".\") if pd.notnull(x) else \"\")\n",
    "\n",
    "\n"
   ]
  },
  {
   "cell_type": "code",
   "execution_count": 54,
   "id": "1ca3bd3f",
   "metadata": {},
   "outputs": [],
   "source": [
    "\n",
    "# Reordenar columnas: poner 'Fecha' primero y eliminar 'Año' y 'Trimestre'\n",
    "columnas_finales = [\"Fecha\"] + [col for col in df_tecnologias_provincias.columns if col not in [\"Año\", \"Trimestre\", \"Fecha\"]]\n",
    "df_tecnologias_provincias = df_tecnologias_provincias[columnas_finales]\n"
   ]
  },
  {
   "cell_type": "code",
   "execution_count": 55,
   "id": "919ab361",
   "metadata": {},
   "outputs": [],
   "source": [
    "\n",
    "# Formatear la columna 'Total' con separadores de miles usando puntos\n",
    "df_tecnologias_provincias[\"Total\"] = df_tecnologias_provincias[\"Total\"].apply(lambda x: f\"{int(x):,}\".replace(\",\", \".\"))\n"
   ]
  },
  {
   "cell_type": "code",
   "execution_count": 58,
   "id": "d1d6474e",
   "metadata": {},
   "outputs": [
    {
     "data": {
      "text/html": [
       "<div>\n",
       "<style scoped>\n",
       "    .dataframe tbody tr th:only-of-type {\n",
       "        vertical-align: middle;\n",
       "    }\n",
       "\n",
       "    .dataframe tbody tr th {\n",
       "        vertical-align: top;\n",
       "    }\n",
       "\n",
       "    .dataframe thead th {\n",
       "        text-align: right;\n",
       "    }\n",
       "</style>\n",
       "<table border=\"1\" class=\"dataframe\">\n",
       "  <thead>\n",
       "    <tr style=\"text-align: right;\">\n",
       "      <th></th>\n",
       "      <th>Fecha</th>\n",
       "      <th>Provincia</th>\n",
       "      <th>ADSL</th>\n",
       "      <th>Cablemodem</th>\n",
       "      <th>Fibra Optica</th>\n",
       "      <th>Wireless</th>\n",
       "      <th>Otros</th>\n",
       "      <th>Total</th>\n",
       "    </tr>\n",
       "  </thead>\n",
       "  <tbody>\n",
       "    <tr>\n",
       "      <th>0</th>\n",
       "      <td>2025T1</td>\n",
       "      <td>Buenos Aires</td>\n",
       "      <td>161.339</td>\n",
       "      <td>2.721.677</td>\n",
       "      <td>2.167.842</td>\n",
       "      <td>141.124</td>\n",
       "      <td>98.914</td>\n",
       "      <td>5.290.896</td>\n",
       "    </tr>\n",
       "    <tr>\n",
       "      <th>1</th>\n",
       "      <td>2025T1</td>\n",
       "      <td>Caba</td>\n",
       "      <td>23.684</td>\n",
       "      <td>1.068.665</td>\n",
       "      <td>345.148</td>\n",
       "      <td>4.353</td>\n",
       "      <td>37.086</td>\n",
       "      <td>1.478.936</td>\n",
       "    </tr>\n",
       "    <tr>\n",
       "      <th>2</th>\n",
       "      <td>2025T1</td>\n",
       "      <td>Catamarca</td>\n",
       "      <td>3.688</td>\n",
       "      <td>9.070</td>\n",
       "      <td>61.689</td>\n",
       "      <td>1.384</td>\n",
       "      <td>3.186</td>\n",
       "      <td>79.017</td>\n",
       "    </tr>\n",
       "    <tr>\n",
       "      <th>3</th>\n",
       "      <td>2025T1</td>\n",
       "      <td>Chaco</td>\n",
       "      <td>5.954</td>\n",
       "      <td>55.663</td>\n",
       "      <td>93.849</td>\n",
       "      <td>7.624</td>\n",
       "      <td>4.571</td>\n",
       "      <td>167.661</td>\n",
       "    </tr>\n",
       "    <tr>\n",
       "      <th>4</th>\n",
       "      <td>2025T1</td>\n",
       "      <td>Chubut</td>\n",
       "      <td>11.588</td>\n",
       "      <td>57.374</td>\n",
       "      <td>68.846</td>\n",
       "      <td>30.717</td>\n",
       "      <td>16.196</td>\n",
       "      <td>184.721</td>\n",
       "    </tr>\n",
       "  </tbody>\n",
       "</table>\n",
       "</div>"
      ],
      "text/plain": [
       "    Fecha     Provincia     ADSL Cablemodem Fibra Optica Wireless   Otros  \\\n",
       "0  2025T1  Buenos Aires  161.339  2.721.677    2.167.842  141.124  98.914   \n",
       "1  2025T1          Caba   23.684  1.068.665      345.148    4.353  37.086   \n",
       "2  2025T1     Catamarca    3.688      9.070       61.689    1.384   3.186   \n",
       "3  2025T1         Chaco    5.954     55.663       93.849    7.624   4.571   \n",
       "4  2025T1        Chubut   11.588     57.374       68.846   30.717  16.196   \n",
       "\n",
       "       Total  \n",
       "0  5.290.896  \n",
       "1  1.478.936  \n",
       "2     79.017  \n",
       "3    167.661  \n",
       "4    184.721  "
      ]
     },
     "execution_count": 58,
     "metadata": {},
     "output_type": "execute_result"
    }
   ],
   "source": [
    "#Visualización del archivo con los datos transformados\n",
    "df_tecnologias_provincias.head()"
   ]
  },
  {
   "cell_type": "code",
   "execution_count": 59,
   "id": "015a4e0b",
   "metadata": {},
   "outputs": [],
   "source": [
    "\n",
    "# Guardar el archivo transformado sin índice\n",
    "df_tecnologias_provincias.to_csv(\n",
    "    r\"C:\\Users\\u601043\\OneDrive - Telecom Argentina SA\\Desktop\\Trabajo Final Henry\\Dataset a transformar\\Internet_Accesos_Tecnologias_Provincias_Final.csv\",\n",
    "    index=False,\n",
    "    encoding='utf-8'\n",
    ")\n"
   ]
  },
  {
   "cell_type": "markdown",
   "id": "df8e174a",
   "metadata": {},
   "source": [
    "# Limpieza de datos - \n",
    "Limpieza y enriquecimiento de datos con pandas.\n",
    "Preparamos el archivo `Accesos Velocidad Provincas.csv` para su análisis posterior..csv` para su análisis posterior."
   ]
  },
  {
   "cell_type": "code",
   "execution_count": 64,
   "id": "2480a956",
   "metadata": {},
   "outputs": [],
   "source": [
    "\n",
    "# Cargar el archivo desde la ruta local\n",
    "df_velocidad_provincias = pd.read_csv(\n",
    "    r\"C:\\Users\\u601043\\OneDrive - Telecom Argentina SA\\Desktop\\Trabajo Final Henry\\Dataset a transformar\\Internet Accesos Velocidad Provincias.csv\"\n",
    ")\n"
   ]
  },
  {
   "cell_type": "code",
   "execution_count": 65,
   "id": "a881787a",
   "metadata": {},
   "outputs": [
    {
     "name": "stdout",
     "output_type": "stream",
     "text": [
      "    Año  Trimestre     Provincia Velocidad Accesos\n",
      "0  2025          1  Buenos Aires         0  66.998\n",
      "1  2025          1  Buenos Aires         1  20.172\n",
      "2  2025          1  Buenos Aires         2  18.797\n",
      "3  2025          1  Buenos Aires         3  44.330\n",
      "4  2025          1  Buenos Aires         4  12.110\n"
     ]
    }
   ],
   "source": [
    "\n",
    "# Mostrar las primeras líneas del DataFrame\n",
    "print(df_velocidad_provincias.head())\n"
   ]
  },
  {
   "cell_type": "code",
   "execution_count": 66,
   "id": "a1273fdc",
   "metadata": {},
   "outputs": [],
   "source": [
    "\n",
    "# Formatear la columna 'Accesos' con puntos como separadores de miles\n",
    "df_velocidad_provincias[\"Accesos\"] = df_velocidad_provincias[\"Accesos\"].astype(str).str.replace(\".\", \"\", regex=False)\n",
    "df_velocidad_provincias[\"Accesos\"] = pd.to_numeric(df_velocidad_provincias[\"Accesos\"], errors=\"coerce\")\n",
    "df_velocidad_provincias[\"Accesos\"] = df_velocidad_provincias[\"Accesos\"].apply(\n",
    "    lambda x: f\"{int(x):,}\".replace(\",\", \".\") if pd.notnull(x) else \"\"\n",
    ")\n"
   ]
  },
  {
   "cell_type": "code",
   "execution_count": 67,
   "id": "672d0d28",
   "metadata": {},
   "outputs": [],
   "source": [
    "\n",
    "# Crear la columna 'Fecha' concatenando 'Año' y 'Trimestre'\n",
    "df_velocidad_provincias[\"Fecha\"] = df_velocidad_provincias[\"Año\"].astype(str) + \"T\" + df_velocidad_provincias[\"Trimestre\"].astype(str)\n",
    "\n",
    "\n"
   ]
  },
  {
   "cell_type": "code",
   "execution_count": 68,
   "id": "ddf10815",
   "metadata": {},
   "outputs": [],
   "source": [
    "# Eliminar las columnas 'Año' y 'Trimestre'\n",
    "df_velocidad_provincias.drop(columns=[\"Año\", \"Trimestre\"], inplace=True)\n",
    "\n"
   ]
  },
  {
   "cell_type": "code",
   "execution_count": 69,
   "id": "2fea09b3",
   "metadata": {},
   "outputs": [],
   "source": [
    "# Reordenar columnas para que 'Fecha' quede primera\n",
    "columnas = [\"Fecha\"] + [col for col in df_velocidad_provincias.columns if col != \"Fecha\"]\n",
    "df_velocidad_provincias = df_velocidad_provincias[columnas]"
   ]
  },
  {
   "cell_type": "code",
   "execution_count": 70,
   "id": "3d4d7d36",
   "metadata": {},
   "outputs": [
    {
     "data": {
      "text/html": [
       "<div>\n",
       "<style scoped>\n",
       "    .dataframe tbody tr th:only-of-type {\n",
       "        vertical-align: middle;\n",
       "    }\n",
       "\n",
       "    .dataframe tbody tr th {\n",
       "        vertical-align: top;\n",
       "    }\n",
       "\n",
       "    .dataframe thead th {\n",
       "        text-align: right;\n",
       "    }\n",
       "</style>\n",
       "<table border=\"1\" class=\"dataframe\">\n",
       "  <thead>\n",
       "    <tr style=\"text-align: right;\">\n",
       "      <th></th>\n",
       "      <th>Fecha</th>\n",
       "      <th>Provincia</th>\n",
       "      <th>Velocidad</th>\n",
       "      <th>Accesos</th>\n",
       "    </tr>\n",
       "  </thead>\n",
       "  <tbody>\n",
       "    <tr>\n",
       "      <th>0</th>\n",
       "      <td>2025T1</td>\n",
       "      <td>Buenos Aires</td>\n",
       "      <td>0</td>\n",
       "      <td>66.998</td>\n",
       "    </tr>\n",
       "    <tr>\n",
       "      <th>1</th>\n",
       "      <td>2025T1</td>\n",
       "      <td>Buenos Aires</td>\n",
       "      <td>1</td>\n",
       "      <td>20.172</td>\n",
       "    </tr>\n",
       "    <tr>\n",
       "      <th>2</th>\n",
       "      <td>2025T1</td>\n",
       "      <td>Buenos Aires</td>\n",
       "      <td>2</td>\n",
       "      <td>18.797</td>\n",
       "    </tr>\n",
       "    <tr>\n",
       "      <th>3</th>\n",
       "      <td>2025T1</td>\n",
       "      <td>Buenos Aires</td>\n",
       "      <td>3</td>\n",
       "      <td>44.330</td>\n",
       "    </tr>\n",
       "    <tr>\n",
       "      <th>4</th>\n",
       "      <td>2025T1</td>\n",
       "      <td>Buenos Aires</td>\n",
       "      <td>4</td>\n",
       "      <td>12.110</td>\n",
       "    </tr>\n",
       "  </tbody>\n",
       "</table>\n",
       "</div>"
      ],
      "text/plain": [
       "    Fecha     Provincia Velocidad Accesos\n",
       "0  2025T1  Buenos Aires         0  66.998\n",
       "1  2025T1  Buenos Aires         1  20.172\n",
       "2  2025T1  Buenos Aires         2  18.797\n",
       "3  2025T1  Buenos Aires         3  44.330\n",
       "4  2025T1  Buenos Aires         4  12.110"
      ]
     },
     "execution_count": 70,
     "metadata": {},
     "output_type": "execute_result"
    }
   ],
   "source": [
    "#Visualización del archivo con los datos transformados\n",
    "df_velocidad_provincias.head()"
   ]
  },
  {
   "cell_type": "code",
   "execution_count": 71,
   "id": "76641ecc",
   "metadata": {},
   "outputs": [],
   "source": [
    "# Guardar el archivo transformado\n",
    "df_velocidad_provincias.to_csv(\n",
    "    r\"C:\\Users\\u601043\\OneDrive - Telecom Argentina SA\\Desktop\\Trabajo Final Henry\\Dataset a transformar\\Internet_Accesos_Velocidad_Provincias_Final.csv\",\n",
    "    index=False,\n",
    "    encoding=\"utf-8\"\n",
    ")\n"
   ]
  },
  {
   "cell_type": "markdown",
   "id": "f034d60c",
   "metadata": {},
   "source": [
    "# Limpieza de datos - \n",
    "Limpieza y enriquecimiento de datos con pandas.\n",
    "Preparamos el archivo `Velocidad Media Descargas Provincas.csv` para su análisis posterior..csv` para su análisis posterior."
   ]
  },
  {
   "cell_type": "code",
   "execution_count": 72,
   "id": "29dc5f2e",
   "metadata": {},
   "outputs": [],
   "source": [
    "\n",
    "# Cargar el archivo con codificación latin-1 y separador ';'\n",
    "df_velocidad_media = pd.read_csv(\n",
    "    r\"C:\\Users\\u601043\\OneDrive - Telecom Argentina SA\\Desktop\\Trabajo Final Henry\\Dataset a transformar\\Internet Velocidad Media de Descarga Provincias.csv\",\n",
    "    encoding=\"latin-1\",\n",
    "    sep=\";\"\n",
    ")\n"
   ]
  },
  {
   "cell_type": "code",
   "execution_count": 73,
   "id": "9ea23cd3",
   "metadata": {},
   "outputs": [
    {
     "name": "stdout",
     "output_type": "stream",
     "text": [
      "    Año  Trimestre     Provincia Mbps (Media de bajada)\n",
      "0  2025          1  Buenos Aires                 274,51\n",
      "1  2025          1          CABA                 319,34\n",
      "2  2025          1     Catamarca                 120,65\n",
      "3  2025          1         Chaco                 119,48\n",
      "4  2025          1        Chubut                 106,19\n"
     ]
    }
   ],
   "source": [
    "# Mostrar las primeras líneas del DataFrame\n",
    "print(df_velocidad_media.head())\n"
   ]
  },
  {
   "cell_type": "code",
   "execution_count": 74,
   "id": "3211be96",
   "metadata": {},
   "outputs": [],
   "source": [
    "\n",
    "# Limpiar nombres de columnas (eliminar espacios extra)\n",
    "df_velocidad_media.columns = [col.strip() for col in df_velocidad_media.columns]\n"
   ]
  },
  {
   "cell_type": "code",
   "execution_count": 75,
   "id": "2b1e3264",
   "metadata": {},
   "outputs": [],
   "source": [
    "\n",
    "# Crear la columna 'Fecha' concatenando 'Año' y 'Trimestre'\n",
    "df_velocidad_media[\"Fecha\"] = df_velocidad_media[\"Año\"].astype(str) + \"T\" + df_velocidad_media[\"Trimestre\"].astype(str)\n"
   ]
  },
  {
   "cell_type": "code",
   "execution_count": 77,
   "id": "f0bd184a",
   "metadata": {},
   "outputs": [],
   "source": [
    "\n",
    "#Eliminar las columnas 'Año' y 'Trimestre'\n",
    "df_velocidad_media.drop(columns=[\"Año\", \"Trimestre\"], inplace=True)\n"
   ]
  },
  {
   "cell_type": "code",
   "execution_count": 78,
   "id": "6b6e7242",
   "metadata": {},
   "outputs": [],
   "source": [
    "\n",
    "# Reordenar columnas para que 'Fecha' quede primera\n",
    "columnas = [\"Fecha\"] + [col for col in df_velocidad_media.columns if col != \"Fecha\"]\n",
    "df_velocidad_media = df_velocidad_media[columnas]\n"
   ]
  },
  {
   "cell_type": "code",
   "execution_count": 79,
   "id": "71e36a96",
   "metadata": {},
   "outputs": [
    {
     "data": {
      "text/html": [
       "<div>\n",
       "<style scoped>\n",
       "    .dataframe tbody tr th:only-of-type {\n",
       "        vertical-align: middle;\n",
       "    }\n",
       "\n",
       "    .dataframe tbody tr th {\n",
       "        vertical-align: top;\n",
       "    }\n",
       "\n",
       "    .dataframe thead th {\n",
       "        text-align: right;\n",
       "    }\n",
       "</style>\n",
       "<table border=\"1\" class=\"dataframe\">\n",
       "  <thead>\n",
       "    <tr style=\"text-align: right;\">\n",
       "      <th></th>\n",
       "      <th>Fecha</th>\n",
       "      <th>Provincia</th>\n",
       "      <th>Velocidad</th>\n",
       "      <th>Accesos</th>\n",
       "    </tr>\n",
       "  </thead>\n",
       "  <tbody>\n",
       "    <tr>\n",
       "      <th>0</th>\n",
       "      <td>2025T1</td>\n",
       "      <td>Buenos Aires</td>\n",
       "      <td>0</td>\n",
       "      <td>66.998</td>\n",
       "    </tr>\n",
       "    <tr>\n",
       "      <th>1</th>\n",
       "      <td>2025T1</td>\n",
       "      <td>Buenos Aires</td>\n",
       "      <td>1</td>\n",
       "      <td>20.172</td>\n",
       "    </tr>\n",
       "    <tr>\n",
       "      <th>2</th>\n",
       "      <td>2025T1</td>\n",
       "      <td>Buenos Aires</td>\n",
       "      <td>2</td>\n",
       "      <td>18.797</td>\n",
       "    </tr>\n",
       "    <tr>\n",
       "      <th>3</th>\n",
       "      <td>2025T1</td>\n",
       "      <td>Buenos Aires</td>\n",
       "      <td>3</td>\n",
       "      <td>44.330</td>\n",
       "    </tr>\n",
       "    <tr>\n",
       "      <th>4</th>\n",
       "      <td>2025T1</td>\n",
       "      <td>Buenos Aires</td>\n",
       "      <td>4</td>\n",
       "      <td>12.110</td>\n",
       "    </tr>\n",
       "  </tbody>\n",
       "</table>\n",
       "</div>"
      ],
      "text/plain": [
       "    Fecha     Provincia Velocidad Accesos\n",
       "0  2025T1  Buenos Aires         0  66.998\n",
       "1  2025T1  Buenos Aires         1  20.172\n",
       "2  2025T1  Buenos Aires         2  18.797\n",
       "3  2025T1  Buenos Aires         3  44.330\n",
       "4  2025T1  Buenos Aires         4  12.110"
      ]
     },
     "execution_count": 79,
     "metadata": {},
     "output_type": "execute_result"
    }
   ],
   "source": [
    "#Visualización del archivo con los datos transformados\n",
    "df_velocidad_provincias.head()"
   ]
  },
  {
   "cell_type": "code",
   "execution_count": 80,
   "id": "d6e36776",
   "metadata": {},
   "outputs": [],
   "source": [
    "\n",
    " #Guardar el archivo transformado\n",
    "df_velocidad_media.to_csv(\n",
    "    r\"C:\\Users\\u601043\\OneDrive - Telecom Argentina SA\\Desktop\\Trabajo Final Henry\\Dataset a transformar\\Internet_Velocidad_Media_Descarga_Provincias_Final.csv\",\n",
    "    index=False,\n",
    "    encoding=\"utf-8\"\n",
    ")\n"
   ]
  }
 ],
 "metadata": {
  "kernelspec": {
   "display_name": "Python 3",
   "language": "python",
   "name": "python3"
  },
  "language_info": {
   "codemirror_mode": {
    "name": "ipython",
    "version": 3
   },
   "file_extension": ".py",
   "mimetype": "text/x-python",
   "name": "python",
   "nbconvert_exporter": "python",
   "pygments_lexer": "ipython3",
   "version": "3.13.7"
  }
 },
 "nbformat": 4,
 "nbformat_minor": 5
}
